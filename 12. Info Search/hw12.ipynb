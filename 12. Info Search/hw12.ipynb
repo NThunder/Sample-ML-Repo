{
 "cells": [
  {
   "cell_type": "code",
   "execution_count": 42,
   "metadata": {},
   "outputs": [],
   "source": [
    "f = open(\"wikipedia-biography-dataset/wikipedia-biography-dataset/train/train.title\", 'r')"
   ]
  },
  {
   "cell_type": "code",
   "execution_count": 43,
   "metadata": {},
   "outputs": [],
   "source": [
    "lines = []\n",
    "while True:\n",
    "    line = f.readline()\n",
    "    if not line:\n",
    "        break\n",
    "    lines.append(line.strip())\n",
    "f.close()"
   ]
  },
  {
   "cell_type": "code",
   "execution_count": 3,
   "metadata": {},
   "outputs": [
    {
     "data": {
      "text/plain": [
       "['walter extra',\n",
       " 'aaron hohlbein',\n",
       " 'majda vrhovnik',\n",
       " 'linda hayden',\n",
       " 'craig starcevich',\n",
       " 'joe walter -lrb- footballer -rrb-',\n",
       " 'ma leilei',\n",
       " 'henrik gulden',\n",
       " 'tony steratore',\n",
       " 'j. p. featherston']"
      ]
     },
     "execution_count": 3,
     "metadata": {},
     "output_type": "execute_result"
    }
   ],
   "source": [
    "lines[0:10]"
   ]
  },
  {
   "cell_type": "code",
   "execution_count": 4,
   "metadata": {},
   "outputs": [],
   "source": [
    "import pandas as pd"
   ]
  },
  {
   "cell_type": "code",
   "execution_count": 5,
   "metadata": {},
   "outputs": [],
   "source": [
    "Biographies = pd.DataFrame(data=lines, columns=['title'])"
   ]
  },
  {
   "cell_type": "code",
   "execution_count": 6,
   "metadata": {},
   "outputs": [
    {
     "data": {
      "text/html": [
       "<div>\n",
       "<style scoped>\n",
       "    .dataframe tbody tr th:only-of-type {\n",
       "        vertical-align: middle;\n",
       "    }\n",
       "\n",
       "    .dataframe tbody tr th {\n",
       "        vertical-align: top;\n",
       "    }\n",
       "\n",
       "    .dataframe thead th {\n",
       "        text-align: right;\n",
       "    }\n",
       "</style>\n",
       "<table border=\"1\" class=\"dataframe\">\n",
       "  <thead>\n",
       "    <tr style=\"text-align: right;\">\n",
       "      <th></th>\n",
       "      <th>title</th>\n",
       "    </tr>\n",
       "  </thead>\n",
       "  <tbody>\n",
       "    <tr>\n",
       "      <th>0</th>\n",
       "      <td>walter extra</td>\n",
       "    </tr>\n",
       "    <tr>\n",
       "      <th>1</th>\n",
       "      <td>aaron hohlbein</td>\n",
       "    </tr>\n",
       "    <tr>\n",
       "      <th>2</th>\n",
       "      <td>majda vrhovnik</td>\n",
       "    </tr>\n",
       "    <tr>\n",
       "      <th>3</th>\n",
       "      <td>linda hayden</td>\n",
       "    </tr>\n",
       "    <tr>\n",
       "      <th>4</th>\n",
       "      <td>craig starcevich</td>\n",
       "    </tr>\n",
       "  </tbody>\n",
       "</table>\n",
       "</div>"
      ],
      "text/plain": [
       "              title\n",
       "0      walter extra\n",
       "1    aaron hohlbein\n",
       "2    majda vrhovnik\n",
       "3      linda hayden\n",
       "4  craig starcevich"
      ]
     },
     "execution_count": 6,
     "metadata": {},
     "output_type": "execute_result"
    }
   ],
   "source": [
    "Biographies.head()"
   ]
  },
  {
   "cell_type": "code",
   "execution_count": 7,
   "metadata": {},
   "outputs": [],
   "source": [
    "f = open(\"wikipedia-biography-dataset/wikipedia-biography-dataset/train/train.nb\", 'r')"
   ]
  },
  {
   "cell_type": "code",
   "execution_count": 8,
   "metadata": {},
   "outputs": [],
   "source": [
    "lines = []\n",
    "while True:\n",
    "    line = f.readline()\n",
    "    if not line:\n",
    "        break\n",
    "    lines.append(line.strip())\n",
    "f.close()"
   ]
  },
  {
   "cell_type": "code",
   "execution_count": 9,
   "metadata": {},
   "outputs": [
    {
     "data": {
      "text/plain": [
       "['8', '1', '2', '2', '13', '9', '1', '2', '8', '8']"
      ]
     },
     "execution_count": 9,
     "metadata": {},
     "output_type": "execute_result"
    }
   ],
   "source": [
    "lines[0:10]"
   ]
  },
  {
   "cell_type": "code",
   "execution_count": 10,
   "metadata": {},
   "outputs": [],
   "source": [
    "Biographies['num_str'] = pd.DataFrame(data=lines, columns=['num_str'])"
   ]
  },
  {
   "cell_type": "code",
   "execution_count": 11,
   "metadata": {},
   "outputs": [
    {
     "data": {
      "text/html": [
       "<div>\n",
       "<style scoped>\n",
       "    .dataframe tbody tr th:only-of-type {\n",
       "        vertical-align: middle;\n",
       "    }\n",
       "\n",
       "    .dataframe tbody tr th {\n",
       "        vertical-align: top;\n",
       "    }\n",
       "\n",
       "    .dataframe thead th {\n",
       "        text-align: right;\n",
       "    }\n",
       "</style>\n",
       "<table border=\"1\" class=\"dataframe\">\n",
       "  <thead>\n",
       "    <tr style=\"text-align: right;\">\n",
       "      <th></th>\n",
       "      <th>title</th>\n",
       "      <th>num_str</th>\n",
       "    </tr>\n",
       "  </thead>\n",
       "  <tbody>\n",
       "    <tr>\n",
       "      <th>0</th>\n",
       "      <td>walter extra</td>\n",
       "      <td>8</td>\n",
       "    </tr>\n",
       "    <tr>\n",
       "      <th>1</th>\n",
       "      <td>aaron hohlbein</td>\n",
       "      <td>1</td>\n",
       "    </tr>\n",
       "    <tr>\n",
       "      <th>2</th>\n",
       "      <td>majda vrhovnik</td>\n",
       "      <td>2</td>\n",
       "    </tr>\n",
       "    <tr>\n",
       "      <th>3</th>\n",
       "      <td>linda hayden</td>\n",
       "      <td>2</td>\n",
       "    </tr>\n",
       "    <tr>\n",
       "      <th>4</th>\n",
       "      <td>craig starcevich</td>\n",
       "      <td>13</td>\n",
       "    </tr>\n",
       "    <tr>\n",
       "      <th>...</th>\n",
       "      <td>...</td>\n",
       "      <td>...</td>\n",
       "    </tr>\n",
       "    <tr>\n",
       "      <th>582654</th>\n",
       "      <td>vince mendoza</td>\n",
       "      <td>11</td>\n",
       "    </tr>\n",
       "    <tr>\n",
       "      <th>582655</th>\n",
       "      <td>eddy c. bertin</td>\n",
       "      <td>2</td>\n",
       "    </tr>\n",
       "    <tr>\n",
       "      <th>582656</th>\n",
       "      <td>michiru Ōshima</td>\n",
       "      <td>5</td>\n",
       "    </tr>\n",
       "    <tr>\n",
       "      <th>582657</th>\n",
       "      <td>john strzemp</td>\n",
       "      <td>15</td>\n",
       "    </tr>\n",
       "    <tr>\n",
       "      <th>582658</th>\n",
       "      <td>jennifer bertino-tarrant</td>\n",
       "      <td>3</td>\n",
       "    </tr>\n",
       "  </tbody>\n",
       "</table>\n",
       "<p>582659 rows × 2 columns</p>\n",
       "</div>"
      ],
      "text/plain": [
       "                           title num_str\n",
       "0                   walter extra       8\n",
       "1                 aaron hohlbein       1\n",
       "2                 majda vrhovnik       2\n",
       "3                   linda hayden       2\n",
       "4               craig starcevich      13\n",
       "...                          ...     ...\n",
       "582654             vince mendoza      11\n",
       "582655            eddy c. bertin       2\n",
       "582656            michiru Ōshima       5\n",
       "582657              john strzemp      15\n",
       "582658  jennifer bertino-tarrant       3\n",
       "\n",
       "[582659 rows x 2 columns]"
      ]
     },
     "execution_count": 11,
     "metadata": {},
     "output_type": "execute_result"
    }
   ],
   "source": [
    "Biographies"
   ]
  },
  {
   "cell_type": "code",
   "execution_count": 12,
   "metadata": {},
   "outputs": [],
   "source": [
    "f = open(\"wikipedia-biography-dataset/wikipedia-biography-dataset/train/train.sent\", 'r')"
   ]
  },
  {
   "cell_type": "code",
   "execution_count": 13,
   "metadata": {},
   "outputs": [],
   "source": [
    "lines = []\n",
    "while True:\n",
    "    line = f.readline()\n",
    "    if not line:\n",
    "        break\n",
    "    lines.append(line)\n",
    "f.close()"
   ]
  },
  {
   "cell_type": "code",
   "execution_count": 14,
   "metadata": {},
   "outputs": [
    {
     "data": {
      "text/plain": [
       "['walter extra is a german award-winning aerobatic pilot , chief aircraft designer and founder of extra flugzeugbau -lrb- extra aircraft construction -rrb- , a manufacturer of aerobatic aircraft .\\n',\n",
       " 'extra was trained as a mechanical engineer .\\n',\n",
       " 'he began his flight training in gliders , transitioning to powered aircraft to perform aerobatics .\\n',\n",
       " 'he built and flew a pitts special aircraft and later built his own extra ea-230 .\\n',\n",
       " 'extra began designing aircraft after competing in the 1982 world aerobatic championships .\\n',\n",
       " 'his aircraft constructions revolutionized the aerobatics flying scene and still dominate world competitions .\\n',\n",
       " 'the german pilot klaus schrodt won his world championship title flying an aircraft made by the extra firm .\\n',\n",
       " 'walter extra has designed a series of performance aircraft which include unlimited aerobatic aircraft and turboprop transports .\\n',\n",
       " 'aaron hohlbein -lrb- born august 16 , 1985 in middleton , wisconsin -rrb- is an american soccer player who is currently without a club .\\n',\n",
       " 'majda vrhovnik -lrb- nom de guerre lojzka -rrb- -lrb- 14 april 1922 -- 4 may 1945 -rrb- was a slovene communist and medical student .\\n']"
      ]
     },
     "execution_count": 14,
     "metadata": {},
     "output_type": "execute_result"
    }
   ],
   "source": [
    "lines[0:10]"
   ]
  },
  {
   "cell_type": "code",
   "execution_count": 15,
   "metadata": {},
   "outputs": [],
   "source": [
    "it = 0;\n",
    "point = 0\n",
    "texts = []\n",
    "for num_sent in Biographies['num_str']:\n",
    "    point += int(num_sent)\n",
    "    text = []\n",
    "    while (it < point):\n",
    "        text.append(lines[it])\n",
    "        it += 1\n",
    "        if (it == point):\n",
    "            texts.append(\" \".join(text)) "
   ]
  },
  {
   "cell_type": "code",
   "execution_count": 16,
   "metadata": {},
   "outputs": [],
   "source": [
    "Biographies['sents'] = pd.DataFrame(data=texts, columns=['sents'])"
   ]
  },
  {
   "cell_type": "code",
   "execution_count": 17,
   "metadata": {},
   "outputs": [
    {
     "data": {
      "text/plain": [
       "'ma leilei -lrb- ; born march 22 , 1989 in tianjin -rrb- is a chinese football player who currently plays for tianjin teda in the chinese super league .\\n'"
      ]
     },
     "execution_count": 17,
     "metadata": {},
     "output_type": "execute_result"
    }
   ],
   "source": [
    "Biographies['sents'][6]"
   ]
  },
  {
   "cell_type": "code",
   "execution_count": 18,
   "metadata": {},
   "outputs": [
    {
     "data": {
      "text/html": [
       "<div>\n",
       "<style scoped>\n",
       "    .dataframe tbody tr th:only-of-type {\n",
       "        vertical-align: middle;\n",
       "    }\n",
       "\n",
       "    .dataframe tbody tr th {\n",
       "        vertical-align: top;\n",
       "    }\n",
       "\n",
       "    .dataframe thead th {\n",
       "        text-align: right;\n",
       "    }\n",
       "</style>\n",
       "<table border=\"1\" class=\"dataframe\">\n",
       "  <thead>\n",
       "    <tr style=\"text-align: right;\">\n",
       "      <th></th>\n",
       "      <th>title</th>\n",
       "      <th>num_str</th>\n",
       "      <th>sents</th>\n",
       "    </tr>\n",
       "  </thead>\n",
       "  <tbody>\n",
       "    <tr>\n",
       "      <th>0</th>\n",
       "      <td>walter extra</td>\n",
       "      <td>8</td>\n",
       "      <td>walter extra is a german award-winning aerobat...</td>\n",
       "    </tr>\n",
       "    <tr>\n",
       "      <th>1</th>\n",
       "      <td>aaron hohlbein</td>\n",
       "      <td>1</td>\n",
       "      <td>aaron hohlbein -lrb- born august 16 , 1985 in ...</td>\n",
       "    </tr>\n",
       "    <tr>\n",
       "      <th>2</th>\n",
       "      <td>majda vrhovnik</td>\n",
       "      <td>2</td>\n",
       "      <td>majda vrhovnik -lrb- nom de guerre lojzka -rrb...</td>\n",
       "    </tr>\n",
       "    <tr>\n",
       "      <th>3</th>\n",
       "      <td>linda hayden</td>\n",
       "      <td>2</td>\n",
       "      <td>linda hayden -lrb- born 19 january 1953 -rrb- ...</td>\n",
       "    </tr>\n",
       "    <tr>\n",
       "      <th>4</th>\n",
       "      <td>craig starcevich</td>\n",
       "      <td>13</td>\n",
       "      <td>craig starcevich -lrb- born 16 may 1967 -rrb- ...</td>\n",
       "    </tr>\n",
       "    <tr>\n",
       "      <th>...</th>\n",
       "      <td>...</td>\n",
       "      <td>...</td>\n",
       "      <td>...</td>\n",
       "    </tr>\n",
       "    <tr>\n",
       "      <th>582654</th>\n",
       "      <td>vince mendoza</td>\n",
       "      <td>11</td>\n",
       "      <td>vince mendoza -lrb- born november 17 , 1961 -r...</td>\n",
       "    </tr>\n",
       "    <tr>\n",
       "      <th>582655</th>\n",
       "      <td>eddy c. bertin</td>\n",
       "      <td>2</td>\n",
       "      <td>eddy c. bertin is a belgian author of adult an...</td>\n",
       "    </tr>\n",
       "    <tr>\n",
       "      <th>582656</th>\n",
       "      <td>michiru Ōshima</td>\n",
       "      <td>5</td>\n",
       "      <td>, is a japanese composer who has worked on sev...</td>\n",
       "    </tr>\n",
       "    <tr>\n",
       "      <th>582657</th>\n",
       "      <td>john strzemp</td>\n",
       "      <td>15</td>\n",
       "      <td>john strzemp , ii -lrb- born 1952 -rrb- is a c...</td>\n",
       "    </tr>\n",
       "    <tr>\n",
       "      <th>582658</th>\n",
       "      <td>jennifer bertino-tarrant</td>\n",
       "      <td>3</td>\n",
       "      <td>jennifer bertino-tarrant is a member of the il...</td>\n",
       "    </tr>\n",
       "  </tbody>\n",
       "</table>\n",
       "<p>582659 rows × 3 columns</p>\n",
       "</div>"
      ],
      "text/plain": [
       "                           title num_str  \\\n",
       "0                   walter extra       8   \n",
       "1                 aaron hohlbein       1   \n",
       "2                 majda vrhovnik       2   \n",
       "3                   linda hayden       2   \n",
       "4               craig starcevich      13   \n",
       "...                          ...     ...   \n",
       "582654             vince mendoza      11   \n",
       "582655            eddy c. bertin       2   \n",
       "582656            michiru Ōshima       5   \n",
       "582657              john strzemp      15   \n",
       "582658  jennifer bertino-tarrant       3   \n",
       "\n",
       "                                                    sents  \n",
       "0       walter extra is a german award-winning aerobat...  \n",
       "1       aaron hohlbein -lrb- born august 16 , 1985 in ...  \n",
       "2       majda vrhovnik -lrb- nom de guerre lojzka -rrb...  \n",
       "3       linda hayden -lrb- born 19 january 1953 -rrb- ...  \n",
       "4       craig starcevich -lrb- born 16 may 1967 -rrb- ...  \n",
       "...                                                   ...  \n",
       "582654  vince mendoza -lrb- born november 17 , 1961 -r...  \n",
       "582655  eddy c. bertin is a belgian author of adult an...  \n",
       "582656  , is a japanese composer who has worked on sev...  \n",
       "582657  john strzemp , ii -lrb- born 1952 -rrb- is a c...  \n",
       "582658  jennifer bertino-tarrant is a member of the il...  \n",
       "\n",
       "[582659 rows x 3 columns]"
      ]
     },
     "execution_count": 18,
     "metadata": {},
     "output_type": "execute_result"
    }
   ],
   "source": [
    "Biographies"
   ]
  },
  {
   "cell_type": "code",
   "execution_count": 19,
   "metadata": {},
   "outputs": [
    {
     "name": "stdout",
     "output_type": "stream",
     "text": [
      "<class 'pandas.core.frame.DataFrame'>\n",
      "RangeIndex: 582659 entries, 0 to 582658\n",
      "Data columns (total 3 columns):\n",
      " #   Column   Non-Null Count   Dtype \n",
      "---  ------   --------------   ----- \n",
      " 0   title    582659 non-null  object\n",
      " 1   num_str  582659 non-null  object\n",
      " 2   sents    582659 non-null  object\n",
      "dtypes: object(3)\n",
      "memory usage: 13.3+ MB\n"
     ]
    }
   ],
   "source": [
    "Biographies.info()"
   ]
  },
  {
   "cell_type": "code",
   "execution_count": 20,
   "metadata": {},
   "outputs": [
    {
     "data": {
      "text/plain": [
       "title      0\n",
       "num_str    0\n",
       "sents      0\n",
       "dtype: int64"
      ]
     },
     "execution_count": 20,
     "metadata": {},
     "output_type": "execute_result"
    }
   ],
   "source": [
    "Biographies.isna().sum()"
   ]
  },
  {
   "cell_type": "code",
   "execution_count": 21,
   "metadata": {},
   "outputs": [],
   "source": [
    "Biographies = Biographies.sort_values(by='title', ascending=False)"
   ]
  },
  {
   "cell_type": "code",
   "execution_count": 22,
   "metadata": {},
   "outputs": [],
   "source": [
    "Biographies['stem_data'] = ''\n"
   ]
  },
  {
   "cell_type": "code",
   "execution_count": 23,
   "metadata": {},
   "outputs": [
    {
     "data": {
      "text/plain": [
       "[\"wasn't\", 'myself', 'until', 'here', 'very', 'such']"
      ]
     },
     "execution_count": 23,
     "metadata": {},
     "output_type": "execute_result"
    }
   ],
   "source": [
    "from nltk.corpus import stopwords\n",
    "sw_eng = set(stopwords.words('english'))\n",
    "list(sw_eng)[:6]"
   ]
  },
  {
   "cell_type": "code",
   "execution_count": 24,
   "metadata": {},
   "outputs": [],
   "source": [
    "from nltk.stem.snowball import SnowballStemmer"
   ]
  },
  {
   "cell_type": "code",
   "execution_count": 25,
   "metadata": {
    "scrolled": true
   },
   "outputs": [
    {
     "name": "stderr",
     "output_type": "stream",
     "text": [
      "[nltk_data] Downloading package averaged_perceptron_tagger to\n",
      "[nltk_data]     /Users/irina.buht12/nltk_data...\n",
      "[nltk_data]   Package averaged_perceptron_tagger is already up-to-\n",
      "[nltk_data]       date!\n"
     ]
    }
   ],
   "source": [
    "import nltk\n",
    "nltk.download('averaged_perceptron_tagger')\n",
    "import numpy as np\n",
    "from tqdm import tqdm"
   ]
  },
  {
   "cell_type": "code",
   "execution_count": 26,
   "metadata": {},
   "outputs": [],
   "source": [
    "def stemmer(df):\n",
    "    stemmer = SnowballStemmer(language='english')\n",
    "    for i, biography in tqdm(df.iterrows()):\n",
    "        lemm_biogr = \" \".join([stemmer.stem(word) for word in biography['sents'].strip().lower().split()])\n",
    "        df.at[i, 'stem_data'] = lemm_biogr"
   ]
  },
  {
   "cell_type": "code",
   "execution_count": 37,
   "metadata": {},
   "outputs": [],
   "source": [
    "import multiprocessing as mp"
   ]
  },
  {
   "cell_type": "code",
   "execution_count": 38,
   "metadata": {},
   "outputs": [],
   "source": [
    "count_pr = mp.cpu_count() - 1"
   ]
  },
  {
   "cell_type": "code",
   "execution_count": 39,
   "metadata": {},
   "outputs": [],
   "source": [
    "pool = mp.Pool(processes=count_pr)"
   ]
  },
  {
   "cell_type": "code",
   "execution_count": 30,
   "metadata": {},
   "outputs": [],
   "source": [
    "Biographies = pd.concat(pool.map(stemmer, np.array_split(Biographies, count_pr)))"
   ]
  },
  {
   "cell_type": "code",
   "execution_count": null,
   "metadata": {},
   "outputs": [],
   "source": [
    "Biographies.to_csv(\"data.csv\")"
   ]
  },
  {
   "cell_type": "code",
   "execution_count": 46,
   "metadata": {},
   "outputs": [
    {
     "data": {
      "text/html": [
       "<div>\n",
       "<style scoped>\n",
       "    .dataframe tbody tr th:only-of-type {\n",
       "        vertical-align: middle;\n",
       "    }\n",
       "\n",
       "    .dataframe tbody tr th {\n",
       "        vertical-align: top;\n",
       "    }\n",
       "\n",
       "    .dataframe thead th {\n",
       "        text-align: right;\n",
       "    }\n",
       "</style>\n",
       "<table border=\"1\" class=\"dataframe\">\n",
       "  <thead>\n",
       "    <tr style=\"text-align: right;\">\n",
       "      <th></th>\n",
       "      <th>title</th>\n",
       "      <th>num_str</th>\n",
       "      <th>sents</th>\n",
       "      <th>stem_data</th>\n",
       "    </tr>\n",
       "  </thead>\n",
       "  <tbody>\n",
       "    <tr>\n",
       "      <th>469321</th>\n",
       "      <td>Ỷ lan</td>\n",
       "      <td>5</td>\n",
       "      <td>Ỷ lan -lrb- hán tự : 倚蘭 , literally `` leaning...</td>\n",
       "      <td>ỷ lan -lrb- hán tự : 倚蘭 , liter `` lean on the...</td>\n",
       "    </tr>\n",
       "    <tr>\n",
       "      <th>568523</th>\n",
       "      <td>Ḫarapšili</td>\n",
       "      <td>1</td>\n",
       "      <td>Ḫarapšili -lrb- or Ḫarapsili , harapšili ; '' ...</td>\n",
       "      <td>ḫarapšili -lrb- or ḫarapsili , harapšili ; '' ...</td>\n",
       "    </tr>\n",
       "    <tr>\n",
       "      <th>97816</th>\n",
       "      <td>ʿabd al‐wājid</td>\n",
       "      <td>2</td>\n",
       "      <td>badr al‐dīn ʿabd al‐wājid -lrb- or wāḥid -rrb-...</td>\n",
       "      <td>badr al‐dīn ʿabd al‐wājid -lrb- or wāḥid -rrb-...</td>\n",
       "    </tr>\n",
       "    <tr>\n",
       "      <th>149131</th>\n",
       "      <td>ʻana taufeʻulungaki</td>\n",
       "      <td>19</td>\n",
       "      <td>dr. ʻana maui taufeʻulungaki is a tongan acade...</td>\n",
       "      <td>dr. ʻana maui taufeʻulungaki is a tongan acade...</td>\n",
       "    </tr>\n",
       "    <tr>\n",
       "      <th>320836</th>\n",
       "      <td>ʻaloʻalo liku</td>\n",
       "      <td>3</td>\n",
       "      <td>` alo'alo ki ` ene'io liku -lrb- born 20 febru...</td>\n",
       "      <td>` alo'alo ki ` ene'io liku -lrb- born 20 febru...</td>\n",
       "    </tr>\n",
       "    <tr>\n",
       "      <th>...</th>\n",
       "      <td>...</td>\n",
       "      <td>...</td>\n",
       "      <td>...</td>\n",
       "      <td>...</td>\n",
       "    </tr>\n",
       "    <tr>\n",
       "      <th>70604</th>\n",
       "      <td>-lrb- the -rrb- cocktail slippers</td>\n",
       "      <td>6</td>\n",
       "      <td>-lrb- the -rrb- cocktail slippers is a five-pi...</td>\n",
       "      <td>-lrb- the -rrb- cocktail slipper is a five-pie...</td>\n",
       "    </tr>\n",
       "    <tr>\n",
       "      <th>184763</th>\n",
       "      <td>-lrb- jo -rrb- style</td>\n",
       "      <td>1</td>\n",
       "      <td>style is a japanese adult video -lrb- av -rrb-...</td>\n",
       "      <td>style is a japanes adult video -lrb- av -rrb- ...</td>\n",
       "    </tr>\n",
       "    <tr>\n",
       "      <th>345971</th>\n",
       "      <td>+44 -lrb- band -rrb-</td>\n",
       "      <td>10</td>\n",
       "      <td>+44 -lrb- read as plus forty four -rrb- is an ...</td>\n",
       "      <td>+44 -lrb- read as plus forti four -rrb- is an ...</td>\n",
       "    </tr>\n",
       "    <tr>\n",
       "      <th>57628</th>\n",
       "      <td>! paus3</td>\n",
       "      <td>2</td>\n",
       "      <td>!\\n paus3 , or thee pause , -lrb- born outside...</td>\n",
       "      <td>! paus3 , or thee paus , -lrb- born outsid ode...</td>\n",
       "    </tr>\n",
       "    <tr>\n",
       "      <th>577429</th>\n",
       "      <td>! action pact !</td>\n",
       "      <td>3</td>\n",
       "      <td>!\\n action pact !\\n were a punk rock band , fo...</td>\n",
       "      <td>! action pact ! were a punk rock band , form i...</td>\n",
       "    </tr>\n",
       "  </tbody>\n",
       "</table>\n",
       "<p>582659 rows × 4 columns</p>\n",
       "</div>"
      ],
      "text/plain": [
       "                                    title num_str  \\\n",
       "469321                              Ỷ lan       5   \n",
       "568523                          Ḫarapšili       1   \n",
       "97816                       ʿabd al‐wājid       2   \n",
       "149131                ʻana taufeʻulungaki      19   \n",
       "320836                      ʻaloʻalo liku       3   \n",
       "...                                   ...     ...   \n",
       "70604   -lrb- the -rrb- cocktail slippers       6   \n",
       "184763               -lrb- jo -rrb- style       1   \n",
       "345971               +44 -lrb- band -rrb-      10   \n",
       "57628                             ! paus3       2   \n",
       "577429                    ! action pact !       3   \n",
       "\n",
       "                                                    sents  \\\n",
       "469321  Ỷ lan -lrb- hán tự : 倚蘭 , literally `` leaning...   \n",
       "568523  Ḫarapšili -lrb- or Ḫarapsili , harapšili ; '' ...   \n",
       "97816   badr al‐dīn ʿabd al‐wājid -lrb- or wāḥid -rrb-...   \n",
       "149131  dr. ʻana maui taufeʻulungaki is a tongan acade...   \n",
       "320836  ` alo'alo ki ` ene'io liku -lrb- born 20 febru...   \n",
       "...                                                   ...   \n",
       "70604   -lrb- the -rrb- cocktail slippers is a five-pi...   \n",
       "184763  style is a japanese adult video -lrb- av -rrb-...   \n",
       "345971  +44 -lrb- read as plus forty four -rrb- is an ...   \n",
       "57628   !\\n paus3 , or thee pause , -lrb- born outside...   \n",
       "577429  !\\n action pact !\\n were a punk rock band , fo...   \n",
       "\n",
       "                                                stem_data  \n",
       "469321  ỷ lan -lrb- hán tự : 倚蘭 , liter `` lean on the...  \n",
       "568523  ḫarapšili -lrb- or ḫarapsili , harapšili ; '' ...  \n",
       "97816   badr al‐dīn ʿabd al‐wājid -lrb- or wāḥid -rrb-...  \n",
       "149131  dr. ʻana maui taufeʻulungaki is a tongan acade...  \n",
       "320836  ` alo'alo ki ` ene'io liku -lrb- born 20 febru...  \n",
       "...                                                   ...  \n",
       "70604   -lrb- the -rrb- cocktail slipper is a five-pie...  \n",
       "184763  style is a japanes adult video -lrb- av -rrb- ...  \n",
       "345971  +44 -lrb- read as plus forti four -rrb- is an ...  \n",
       "57628   ! paus3 , or thee paus , -lrb- born outsid ode...  \n",
       "577429  ! action pact ! were a punk rock band , form i...  \n",
       "\n",
       "[582659 rows x 4 columns]"
      ]
     },
     "execution_count": 46,
     "metadata": {},
     "output_type": "execute_result"
    }
   ],
   "source": [
    "Biographies"
   ]
  },
  {
   "cell_type": "code",
   "execution_count": null,
   "metadata": {},
   "outputs": [],
   "source": []
  }
 ],
 "metadata": {
  "kernelspec": {
   "display_name": "Python 3",
   "language": "python",
   "name": "python3"
  },
  "language_info": {
   "codemirror_mode": {
    "name": "ipython",
    "version": 3
   },
   "file_extension": ".py",
   "mimetype": "text/x-python",
   "name": "python",
   "nbconvert_exporter": "python",
   "pygments_lexer": "ipython3",
   "version": "3.8.5"
  }
 },
 "nbformat": 4,
 "nbformat_minor": 4
}
